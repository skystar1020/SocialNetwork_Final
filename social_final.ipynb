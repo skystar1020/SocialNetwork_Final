{
 "cells": [
  {
   "cell_type": "code",
   "execution_count": 1,
   "metadata": {
    "collapsed": false
   },
   "outputs": [
    {
     "name": "stdout",
     "output_type": "stream",
     "text": [
      "一共抓取 10870 篇粉絲專頁文章，選擇其中 100 筆為測試資料，其餘為訓練資料\n"
     ]
    }
   ],
   "source": [
    "import facebook\n",
    "import json\n",
    "import requests\n",
    "import random\n",
    "\n",
    "token = 'ACCESS_TOKEN'\n",
    "graph = facebook.GraphAPI(access_token = token, version = '2.7')\n",
    "fetch_count = 2000 #每個專頁抓2000篇文章\n",
    "test_count = 100   #隨機取樣其中100筆做測試資料\n",
    "\n",
    "# 柯文哲、朱立倫、鄭文燦、林佳龍、賴清德、陳菊　粉絲專頁ID\n",
    "page_ids = ['136845026417486', '10150145806225128', '333058400178329', '153819538009272', '152472278103133', '232716627404']\n",
    "\n",
    "# Fetch Pages Posts\n",
    "posts_text = []\n",
    "posts_label = []\n",
    "\n",
    "for page_id in page_ids:\n",
    "    posts = graph.get_object(page_id + '/posts?limit=100')\n",
    "    count = 0\n",
    "    \n",
    "    while(True):\n",
    "        try:\n",
    "            for post in posts['data']:\n",
    "                if 'message' in post:\n",
    "                    posts_text.append(post['message'])\n",
    "                    posts_label.append(page_ids.index(page_id))\n",
    "                    count += 1\n",
    "                    if(count >= fetch_count):\n",
    "                        break\n",
    "                        \n",
    "            if(count >= fetch_count):\n",
    "                break\n",
    "                        \n",
    "            # 找下一100筆資料\n",
    "            posts = requests.get(posts['paging']['next']).json()\n",
    "        except KeyError:\n",
    "            # 後方已無資料\n",
    "            break\n",
    "            \n",
    "posts_count = len(posts_text)\n",
    "\n",
    "random.seed()\n",
    "test_idx = random.sample(range(posts_count), test_count)\n",
    "\n",
    "x_train = []\n",
    "y_train = []\n",
    "x_test = []\n",
    "y_test = []\n",
    "\n",
    "for i in random.sample(range(posts_count), posts_count):\n",
    "    if i in test_idx:\n",
    "        x_test.append(posts_text[i])\n",
    "        y_test.append(posts_label[i])\n",
    "    else:\n",
    "        x_train.append(posts_text[i])\n",
    "        y_train.append(posts_label[i])\n",
    "        \n",
    "print '一共抓取 {} 篇粉絲專頁文章，選擇其中 {} 筆為測試資料，其餘為訓練資料'.format(posts_count, test_count)"
   ]
  },
  {
   "cell_type": "code",
   "execution_count": 2,
   "metadata": {
    "collapsed": false
   },
   "outputs": [
    {
     "name": "stderr",
     "output_type": "stream",
     "text": [
      "Building prefix dict from the default dictionary ...\n",
      "Loading model from cache /tmp/jieba.cache\n",
      "Loading model cost 0.403 seconds.\n",
      "Prefix dict has been built succesfully.\n"
     ]
    },
    {
     "name": "stdout",
     "output_type": "stream",
     "text": [
      "訓練資料的TF-IDF計算完畢\n"
     ]
    }
   ],
   "source": [
    "import jieba\n",
    "import sys\n",
    "\n",
    "from sklearn import feature_extraction\n",
    "from sklearn.feature_extraction.text import TfidfVectorizer\n",
    "\n",
    "# 對 training data 進行 jieba斷詞\n",
    "corpus = []\n",
    "for msg in x_train:\n",
    "    corpus.append(\" \".join(jieba.cut(msg, cut_all=False)))\n",
    "    #print corpus[len(corpus)-1]\n",
    "\n",
    "# 計算 training data 的 TF-IDF\n",
    "vectorizer = TfidfVectorizer()\n",
    "train_tfidf = vectorizer.fit_transform(corpus)\n",
    "\n",
    "print '訓練資料的TF-IDF計算完畢'"
   ]
  },
  {
   "cell_type": "code",
   "execution_count": 3,
   "metadata": {
    "collapsed": false
   },
   "outputs": [
    {
     "name": "stdout",
     "output_type": "stream",
     "text": [
      "測試資料的TF-IDF計算完畢\n"
     ]
    }
   ],
   "source": [
    "from sklearn.neighbors import KNeighborsClassifier\n",
    "from sklearn.ensemble import RandomForestClassifier\n",
    "from sklearn.tree import DecisionTreeClassifier\n",
    "from sklearn.svm import LinearSVC\n",
    "import numpy\n",
    "\n",
    "# 對 test data 進行 jieba 斷詞\n",
    "corpus = []\n",
    "for msg in x_test:\n",
    "    corpus.append(\" \".join(jieba.cut(msg, cut_all=False)))\n",
    "    \n",
    "# 計算 test data 的TF-IDF\n",
    "tfidf_test = vectorizer.transform(corpus)\n",
    "\n",
    "print '測試資料的TF-IDF計算完畢'"
   ]
  },
  {
   "cell_type": "code",
   "execution_count": 4,
   "metadata": {
    "collapsed": false
   },
   "outputs": [
    {
     "name": "stdout",
     "output_type": "stream",
     "text": [
      "kNN (k = 10) 平均準確率: \t0.65\n"
     ]
    }
   ],
   "source": [
    "# 測試kNN (k = 10)\n",
    "clf = KNeighborsClassifier(10)\n",
    "clf.fit(train_tfidf, y_train)\n",
    "clf.predict(tfidf_test)\n",
    "print \"kNN (k = 10) 平均準確率: \\t\", clf.score(tfidf_test, y_test)"
   ]
  },
  {
   "cell_type": "code",
   "execution_count": 5,
   "metadata": {
    "collapsed": false
   },
   "outputs": [
    {
     "name": "stdout",
     "output_type": "stream",
     "text": [
      "kNN (k = 50) 平均準確率: \t0.75\n"
     ]
    }
   ],
   "source": [
    "# 測試kNN (k = 50)\n",
    "clf = KNeighborsClassifier(50)\n",
    "clf.fit(train_tfidf, y_train)\n",
    "clf.predict(tfidf_test)\n",
    "print \"kNN (k = 50) 平均準確率: \\t\", clf.score(tfidf_test, y_test)"
   ]
  },
  {
   "cell_type": "code",
   "execution_count": 6,
   "metadata": {
    "collapsed": false
   },
   "outputs": [
    {
     "name": "stdout",
     "output_type": "stream",
     "text": [
      "kNN (k = 100) 平均準確率: \t0.83\n"
     ]
    }
   ],
   "source": [
    "# 測試kNN (k = 100)\n",
    "clf = KNeighborsClassifier(100)\n",
    "clf.fit(train_tfidf, y_train)\n",
    "clf.predict(tfidf_test)\n",
    "print \"kNN (k = 100) 平均準確率: \\t\", clf.score(tfidf_test, y_test)"
   ]
  },
  {
   "cell_type": "code",
   "execution_count": 7,
   "metadata": {
    "collapsed": false
   },
   "outputs": [
    {
     "name": "stdout",
     "output_type": "stream",
     "text": [
      "kNN (k = 500) 平均準確率: \t0.83\n"
     ]
    }
   ],
   "source": [
    "# 測試kNN (k = 500)\n",
    "clf = KNeighborsClassifier(500)\n",
    "clf.fit(train_tfidf, y_train)\n",
    "clf.predict(tfidf_test)\n",
    "print \"kNN (k = 500) 平均準確率: \\t\", clf.score(tfidf_test, y_test)"
   ]
  },
  {
   "cell_type": "code",
   "execution_count": 8,
   "metadata": {
    "collapsed": false
   },
   "outputs": [
    {
     "name": "stdout",
     "output_type": "stream",
     "text": [
      "決策樹 平均準確率: \t0.84\n"
     ]
    }
   ],
   "source": [
    "# 測試決策樹演算法\n",
    "clf = DecisionTreeClassifier()\n",
    "clf.fit(train_tfidf, y_train)\n",
    "clf.predict(tfidf_test)\n",
    "print \"決策樹 平均準確率: \\t\", clf.score(tfidf_test, y_test)"
   ]
  },
  {
   "cell_type": "code",
   "execution_count": 9,
   "metadata": {
    "collapsed": false
   },
   "outputs": [
    {
     "name": "stdout",
     "output_type": "stream",
     "text": [
      "RandomForest 平均準確率: \t0.7\n"
     ]
    }
   ],
   "source": [
    "# 測試RandomForest\n",
    "clf = RandomForestClassifier()\n",
    "clf.fit(train_tfidf, y_train)\n",
    "clf.predict(tfidf_test)\n",
    "print \"RandomForest 平均準確率: \\t\", clf.score(tfidf_test, y_test)"
   ]
  },
  {
   "cell_type": "code",
   "execution_count": 10,
   "metadata": {
    "collapsed": false
   },
   "outputs": [
    {
     "name": "stdout",
     "output_type": "stream",
     "text": [
      "SVM 平均準確率: \t0.94\n"
     ]
    }
   ],
   "source": [
    "# 測試SVM\n",
    "clf = LinearSVC()\n",
    "clf.fit(train_tfidf, y_train)\n",
    "clf.predict(tfidf_test)\n",
    "print \"SVM 平均準確率: \\t\", clf.score(tfidf_test, y_test)"
   ]
  },
  {
   "cell_type": "code",
   "execution_count": null,
   "metadata": {
    "collapsed": true
   },
   "outputs": [],
   "source": []
  }
 ],
 "metadata": {
  "kernelspec": {
   "display_name": "Python 2",
   "language": "python",
   "name": "python2"
  },
  "language_info": {
   "codemirror_mode": {
    "name": "ipython",
    "version": 2
   },
   "file_extension": ".py",
   "mimetype": "text/x-python",
   "name": "python",
   "nbconvert_exporter": "python",
   "pygments_lexer": "ipython2",
   "version": "2.7.5"
  }
 },
 "nbformat": 4,
 "nbformat_minor": 1
}
